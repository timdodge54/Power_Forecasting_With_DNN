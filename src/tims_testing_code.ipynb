{
 "cells": [
  {
   "cell_type": "code",
   "execution_count": 1,
   "metadata": {},
   "outputs": [],
   "source": [
    "import pandas as pd\n",
    "import numpy as np\n",
    "import datetime\n",
    "from matplotlib import pyplot as plt\n",
    "import os\n",
    "from datetime import timedelta\n",
    "import copy\n",
    "from statsmodels.tsa.arima_model import ARIMA\n",
    "from matplotlib import pyplot\n",
    "from pandas.plotting import autocorrelation_plot\n",
    "\n",
    "from sklearn.cluster import KMeans\n",
    "from sklearn.preprocessing import LabelEncoder\n",
    "from sklearn.preprocessing import MinMaxScaler\n",
    "from statsmodels.graphics.tsaplots import plot_acf, plot_pacf\n",
    "import statsmodels.api as sm\n",
    "from statsmodels.tsa.statespace.sarimax import SARIMAX\n",
    "\n",
    "import math\n",
    "\n",
    "from sklearn.preprocessing import MinMaxScaler\n",
    "from sklearn.metrics import mean_squared_error"
   ]
  },
  {
   "cell_type": "code",
   "execution_count": 2,
   "metadata": {},
   "outputs": [],
   "source": [
    "def PrecipTypeToVal(precip_type):\n",
    "    if precip_type == 'rain':\n",
    "        return 0\n",
    "    elif precip_type == 'snow':\n",
    "        return 1\n",
    "    else:\n",
    "        raise RuntimeError('that is not a good precip type')\n",
    "    \n",
    "def ValToPrecipType(precip_type):\n",
    "    if precip_type == 0:\n",
    "        return 'rain'\n",
    "    elif precip_type == 1:\n",
    "        return 'snow'\n",
    "    else:\n",
    "        raise RuntimeError('that is not a good precip type value')"
   ]
  },
  {
   "cell_type": "code",
   "execution_count": 3,
   "metadata": {},
   "outputs": [
    {
     "name": "stderr",
     "output_type": "stream",
     "text": [
      "/tmp/ipykernel_47966/952110914.py:9: DtypeWarning: Columns (2) have mixed types. Specify dtype option on import or set low_memory=False.\n",
      "  half_hour_power_block = pd.read_csv(data_dir + \"halfhourly_dataset/halfhourly_dataset/block_\" + str(block_it) + \".csv\")\n",
      "/tmp/ipykernel_47966/952110914.py:9: DtypeWarning: Columns (2) have mixed types. Specify dtype option on import or set low_memory=False.\n",
      "  half_hour_power_block = pd.read_csv(data_dir + \"halfhourly_dataset/halfhourly_dataset/block_\" + str(block_it) + \".csv\")\n",
      "/tmp/ipykernel_47966/952110914.py:9: DtypeWarning: Columns (2) have mixed types. Specify dtype option on import or set low_memory=False.\n",
      "  half_hour_power_block = pd.read_csv(data_dir + \"halfhourly_dataset/halfhourly_dataset/block_\" + str(block_it) + \".csv\")\n",
      "/tmp/ipykernel_47966/952110914.py:9: DtypeWarning: Columns (2) have mixed types. Specify dtype option on import or set low_memory=False.\n",
      "  half_hour_power_block = pd.read_csv(data_dir + \"halfhourly_dataset/halfhourly_dataset/block_\" + str(block_it) + \".csv\")\n",
      "/tmp/ipykernel_47966/952110914.py:9: DtypeWarning: Columns (2) have mixed types. Specify dtype option on import or set low_memory=False.\n",
      "  half_hour_power_block = pd.read_csv(data_dir + \"halfhourly_dataset/halfhourly_dataset/block_\" + str(block_it) + \".csv\")\n",
      "/tmp/ipykernel_47966/952110914.py:9: DtypeWarning: Columns (2) have mixed types. Specify dtype option on import or set low_memory=False.\n",
      "  half_hour_power_block = pd.read_csv(data_dir + \"halfhourly_dataset/halfhourly_dataset/block_\" + str(block_it) + \".csv\")\n",
      "/tmp/ipykernel_47966/952110914.py:9: DtypeWarning: Columns (2) have mixed types. Specify dtype option on import or set low_memory=False.\n",
      "  half_hour_power_block = pd.read_csv(data_dir + \"halfhourly_dataset/halfhourly_dataset/block_\" + str(block_it) + \".csv\")\n",
      "/tmp/ipykernel_47966/952110914.py:9: DtypeWarning: Columns (2) have mixed types. Specify dtype option on import or set low_memory=False.\n",
      "  half_hour_power_block = pd.read_csv(data_dir + \"halfhourly_dataset/halfhourly_dataset/block_\" + str(block_it) + \".csv\")\n"
     ]
    }
   ],
   "source": [
    "\n",
    "data_dir = '../data/'\n",
    "# Load data \n",
    "holidays_df       = pd.read_csv(data_dir + 'uk_bank_holidays.csv')\n",
    "weather_hourly_df = pd.read_csv(data_dir + 'weather_hourly_darksky.csv')\n",
    "by_meter_df       = pd.read_csv(data_dir + 'informations_households.csv')\n",
    "\n",
    "half_hour_power_df = pd.read_csv(data_dir + \"halfhourly_dataset/halfhourly_dataset/block_0.csv\")\n",
    "for block_it in range(1,112):\n",
    "    half_hour_power_block = pd.read_csv(data_dir + \"halfhourly_dataset/halfhourly_dataset/block_\" + str(block_it) + \".csv\")\n",
    "    half_hour_power_df = pd.concat([half_hour_power_block, half_hour_power_df], ignore_index=True)"
   ]
  },
  {
   "cell_type": "code",
   "execution_count": 4,
   "metadata": {},
   "outputs": [],
   "source": [
    "\n",
    "holidays_df = holidays_df.drop('Type', axis=1)\n",
    "holidays_df['Bank holidays'] = pd.to_datetime(holidays_df['Bank holidays'], format='%Y-%m-%d', utc=True)\n",
    "weather_hourly_df = weather_hourly_df.rename(columns={\"time\": \"timestamp\"})\n",
    "weather_hourly_df = weather_hourly_df.drop(['icon', 'windBearing', 'apparentTemperature', 'summary'], axis=1)\n",
    "weather_hourly_df['timestamp'] = pd.to_datetime(weather_hourly_df['timestamp'], utc=True)\n",
    "by_meter_df = by_meter_df.drop(['stdorToU', 'Acorn', 'file'], axis=1)\n",
    "half_hour_power_df = half_hour_power_df.rename(columns={\"tstp\": \"timestamp\"})\n",
    "half_hour_power_df['timestamp'] = pd.to_datetime(half_hour_power_df['timestamp'], utc=True)\n",
    "half_hour_power_df = half_hour_power_df[half_hour_power_df['energy(kWh/hh)'] != 'Null']\n",
    "half_hour_power_df['energy(kWh/hh)'] = half_hour_power_df['energy(kWh/hh)'].astype('float')\n",
    "\n",
    "# Get time vec\n",
    "weather_hourly_df = weather_hourly_df.sort_values(by='timestamp')\n",
    "start_time = weather_hourly_df['timestamp'].iloc[0]\n",
    "end_time = weather_hourly_df['timestamp'].iloc[-1]\n",
    "iterated_time = start_time + timedelta(minutes=30)\n",
    "all_needed_times = [copy.deepcopy(iterated_time)]\n",
    "while iterated_time < end_time:\n",
    "    iterated_time = iterated_time + timedelta(minutes=30)\n",
    "    all_needed_times.append(copy.deepcopy(iterated_time))\n",
    "time_df = pd.DataFrame({'timestamp': all_needed_times})"
   ]
  },
  {
   "cell_type": "code",
   "execution_count": 5,
   "metadata": {},
   "outputs": [
    {
     "name": "stderr",
     "output_type": "stream",
     "text": [
      "/tmp/ipykernel_47966/2787982892.py:4: FutureWarning: Series.fillna with 'method' is deprecated and will raise in a future version. Use obj.ffill() or obj.bfill() instead.\n",
      "  weather_half_hour_df['precipType'].fillna(method='ffill', inplace=True)\n",
      "/tmp/ipykernel_47966/2787982892.py:5: FutureWarning: Series.fillna with 'method' is deprecated and will raise in a future version. Use obj.ffill() or obj.bfill() instead.\n",
      "  weather_half_hour_df['precipType'].fillna(method='bfill', inplace=True)\n",
      "/tmp/ipykernel_47966/2787982892.py:8: FutureWarning: Series.fillna with 'method' is deprecated and will raise in a future version. Use obj.ffill() or obj.bfill() instead.\n",
      "  weather_half_hour_df[col_it].fillna(method='ffill', inplace=True)\n",
      "/tmp/ipykernel_47966/2787982892.py:9: FutureWarning: Series.fillna with 'method' is deprecated and will raise in a future version. Use obj.ffill() or obj.bfill() instead.\n",
      "  weather_half_hour_df[col_it].fillna(method='bfill', inplace=True)\n"
     ]
    }
   ],
   "source": [
    "\n",
    "# Interpolate weather data\n",
    "weather_half_hour_df = pd.merge(time_df, weather_hourly_df, on='timestamp', how='left')\n",
    "weather_half_hour_df.sort_values(by='timestamp', inplace=True)\n",
    "weather_half_hour_df['precipType'].fillna(method='ffill', inplace=True)\n",
    "weather_half_hour_df['precipType'].fillna(method='bfill', inplace=True)\n",
    "for col_it in ['temperature', 'dewPoint', 'pressure', 'windSpeed', 'humidity', 'visibility']:\n",
    "    weather_half_hour_df[col_it].interpolate(method='quadratic', inplace=True)\n",
    "    weather_half_hour_df[col_it].fillna(method='ffill', inplace=True)\n",
    "    weather_half_hour_df[col_it].fillna(method='bfill', inplace=True)\n",
    "\n",
    "# Replace precipType with index values\n",
    "weather_half_hour_df['precipType'] = weather_half_hour_df['precipType'].apply(lambda x: PrecipTypeToVal(x))\n",
    "\n",
    "# Add holidays \n",
    "weather_half_hour_df = weather_half_hour_df.merge(holidays_df, left_on = 'timestamp', right_on = 'Bank holidays', how = 'left')\n",
    "weather_half_hour_df['Bank holidays'] = np.where(weather_half_hour_df['Bank holidays'].isna(), 0, 1)\n",
    "\n",
    "# Put it all together\n",
    "housecount   = half_hour_power_df.groupby('timestamp')[['LCLid']].nunique().sort_values(by='timestamp').astype('float')\n",
    "total_energy = half_hour_power_df.groupby('timestamp')[['energy(kWh/hh)']].sum().sort_values(by='timestamp').astype('float')\n",
    "\n",
    "weather_half_hour_df = pd.merge(housecount, weather_half_hour_df, on='timestamp', how='left')\n",
    "weather_half_hour_df = weather_half_hour_df.rename(columns={\"LCLid\": \"num_houses\"})\n",
    "\n",
    "weather_half_hour_df = pd.merge(total_energy, weather_half_hour_df, on='timestamp', how='left')\n",
    "weather_half_hour_df = weather_half_hour_df.rename(columns={\"energy(kWh/hh)\": \"total_energy\"})\n",
    "\n",
    "weather_half_hour_df.sort_values(by='timestamp', inplace=True)"
   ]
  },
  {
   "cell_type": "code",
   "execution_count": 16,
   "metadata": {},
   "outputs": [],
   "source": [
    "# seperate the date and time into seperate columns\n",
    "weekdays = weather_half_hour_df['timestamp'].dt.weekday\n",
    "isweekdays = weekdays.apply(lambda x: 1 if x < 5 else 0)\n",
    "month_as_floats = weather_half_hour_df['timestamp'].dt.month.astype('float')\n"
   ]
  },
  {
   "cell_type": "code",
   "execution_count": 17,
   "metadata": {},
   "outputs": [],
   "source": [
    "hour_minute_normal = weather_half_hour_df['timestamp'].dt.hour.astype('float') + weather_half_hour_df['timestamp'].dt.minute.astype('float') / 60.0 \n",
    "day_float = weather_half_hour_df['timestamp'].dt.day.astype('float')\n",
    "year_float = weather_half_hour_df['timestamp'].dt.year.astype('float')"
   ]
  },
  {
   "cell_type": "code",
   "execution_count": 19,
   "metadata": {},
   "outputs": [
    {
     "data": {
      "text/plain": [
       "timestamp      datetime64[ns, UTC]\n",
       "avg_energy                 float64\n",
       "num_houses                 float64\n",
       "is_holiday                   int64\n",
       "visibility                 float64\n",
       "temperature                float64\n",
       "dewPoint                   float64\n",
       "pressure                   float64\n",
       "windSpeed                  float64\n",
       "precipType                   int64\n",
       "humidity                   float64\n",
       "hour_minute                float64\n",
       "month                      float64\n",
       "day                        float64\n",
       "year                       float64\n",
       "is_weekday                   int64\n",
       "dtype: object"
      ]
     },
     "metadata": {},
     "output_type": "display_data"
    }
   ],
   "source": [
    "output = pd.DataFrame(data={'timestamp': weather_half_hour_df['timestamp'],\n",
    "                            'avg_energy': weather_half_hour_df['total_energy'] / weather_half_hour_df['num_houses'],\n",
    "                            'num_houses': weather_half_hour_df['num_houses'],\n",
    "                            'is_holiday': weather_half_hour_df['Bank holidays'],\n",
    "                            'visibility': weather_half_hour_df['visibility'],\n",
    "                            'temperature': weather_half_hour_df['temperature'],\n",
    "                            'dewPoint': weather_half_hour_df['dewPoint'],\n",
    "                            'pressure': weather_half_hour_df['pressure'],\n",
    "                            'windSpeed': weather_half_hour_df['windSpeed'],\n",
    "                            'precipType': weather_half_hour_df['precipType'],\n",
    "                            'humidity': weather_half_hour_df['humidity'],\n",
    "                            'hour_minute': hour_minute_normal,\n",
    "                            'month': month_as_floats,\n",
    "                            'day': day_float,\n",
    "                            'year': year_float,\n",
    "                            'is_weekday': isweekdays,\n",
    "                            },\n",
    "                            )\n",
    "output.dropna(axis=0, inplace=True)\n",
    "# get columns and datatypes of each column\n",
    "display(output.dtypes)"
   ]
  },
  {
   "cell_type": "code",
   "execution_count": 20,
   "metadata": {},
   "outputs": [],
   "source": [
    "# Normalize \n",
    "normalization_cols = [i for i in output.columns.tolist() if i not in ['timestamp', 'precipType', 'num_houses', 'is_holiday', 'is_weekday']]\n",
    "normalization_vals = {}\n",
    "for col_name in normalization_cols:\n",
    "    normalization_vals[col_name] = {}\n",
    "    normalization_vals[col_name]['min'] = output[col_name].min()\n",
    "    normalization_vals[col_name]['max'] = output[col_name].max()\n",
    "    normalization_vals[col_name]['std'] = output[col_name].std()\n",
    "normalizer = MinMaxScaler(feature_range=(0, 1))\n",
    "output[normalization_cols] = normalizer.fit_transform(output[normalization_cols])"
   ]
  },
  {
   "cell_type": "code",
   "execution_count": 22,
   "metadata": {},
   "outputs": [],
   "source": [
    "output = output.sort_values(by='timestamp', inplace=False)\n",
    "output = output.reset_index(drop=True)\n",
    "output.to_csv(path_or_buf=\"../normalized_data_with_.csv\")"
   ]
  }
 ],
 "metadata": {
  "kernelspec": {
   "display_name": "Python 3",
   "language": "python",
   "name": "python3"
  },
  "language_info": {
   "codemirror_mode": {
    "name": "ipython",
    "version": 3
   },
   "file_extension": ".py",
   "mimetype": "text/x-python",
   "name": "python",
   "nbconvert_exporter": "python",
   "pygments_lexer": "ipython3",
   "version": "3.10.12"
  }
 },
 "nbformat": 4,
 "nbformat_minor": 2
}
